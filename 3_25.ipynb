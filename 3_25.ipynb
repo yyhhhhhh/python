{
  "nbformat": 4,
  "nbformat_minor": 0,
  "metadata": {
    "colab": {
      "name": "3.25.ipynb",
      "provenance": [],
      "authorship_tag": "ABX9TyNJvX2qpDlWd/vqRT/jkER1",
      "include_colab_link": true
    },
    "kernelspec": {
      "name": "python3",
      "display_name": "Python 3"
    },
    "language_info": {
      "name": "python"
    }
  },
  "cells": [
    {
      "cell_type": "markdown",
      "metadata": {
        "id": "view-in-github",
        "colab_type": "text"
      },
      "source": [
        "<a href=\"https://colab.research.google.com/github/yyhhhhhh/python/blob/main/3_25.ipynb\" target=\"_parent\"><img src=\"https://colab.research.google.com/assets/colab-badge.svg\" alt=\"Open In Colab\"/></a>"
      ]
    },
    {
      "cell_type": "code",
      "source": [
        "number = 7\n",
        "guess = -1\n",
        "print('数字猜谜游戏!')\n",
        "while guess != number :\n",
        "  guess = int(input('请输入你猜的数字:'))\n",
        "  if(guess == number) : print('恭喜,你猜对了')\n",
        "  elif guess < number : print('猜的数字小了...')\n",
        "  elif guess > number : print('猜的数字大了...')"
      ],
      "metadata": {
        "colab": {
          "base_uri": "https://localhost:8080/"
        },
        "id": "fqtpj9J1loXK",
        "outputId": "d307e141-33ca-42b0-852b-37c72c178cae"
      },
      "execution_count": 2,
      "outputs": [
        {
          "output_type": "stream",
          "name": "stdout",
          "text": [
            "数字猜谜游戏!\n",
            "请输入你猜的数字:7\n",
            "恭喜,你猜对了\n"
          ]
        }
      ]
    },
    {
      "cell_type": "code",
      "source": [
        "age =int(input(\"请输入你家狗狗的年龄: \"))\n",
        "print(\"\")\n",
        "if age <=0:\n",
        "  print(\"你是在逗我吧!\")\n",
        "elif age ==1:\n",
        "    print(\"相当于14岁的人。\")\n",
        "elif age ==2:\n",
        "    print(\"相当于22岁的人。\")\n",
        "elif age >2:    \n",
        "    human =22+(age -2)*5\n",
        "    print(\"对应人类年龄: \", human)\n"
      ],
      "metadata": {
        "colab": {
          "base_uri": "https://localhost:8080/"
        },
        "id": "-Ih4Lr4DocML",
        "outputId": "b9cea97d-05ba-404e-8edc-dbed7adef089"
      },
      "execution_count": 4,
      "outputs": [
        {
          "output_type": "stream",
          "name": "stdout",
          "text": [
            "请输入你家狗狗的年龄: 8\n",
            "\n",
            "对应人类年龄:  52\n"
          ]
        }
      ]
    },
    {
      "cell_type": "code",
      "source": [
        "show = 100\n",
        "if (show == 100): print('变量show的值为100')\n",
        "print('Good Bye!!!')"
      ],
      "metadata": {
        "colab": {
          "base_uri": "https://localhost:8080/"
        },
        "id": "HJxpy4k6pLI9",
        "outputId": "e9b95899-f882-4aae-9cb5-29a533d08053"
      },
      "execution_count": 5,
      "outputs": [
        {
          "output_type": "stream",
          "name": "stdout",
          "text": [
            "变量show的值为100\n",
            "Good Bye!!!\n"
          ]
        }
      ]
    },
    {
      "cell_type": "code",
      "source": [
        "count = 0\n",
        "while count < 5:\n",
        "  print(count,\"小于5\")\n",
        "  count = count + 1\n",
        "else : print(count,\"大于或等于5\")"
      ],
      "metadata": {
        "colab": {
          "base_uri": "https://localhost:8080/"
        },
        "id": "TPlXTSLNqmSO",
        "outputId": "fa22c1db-396f-47d8-a555-054a1bd095e6"
      },
      "execution_count": 6,
      "outputs": [
        {
          "output_type": "stream",
          "name": "stdout",
          "text": [
            "0 小于5\n",
            "1 小于5\n",
            "2 小于5\n",
            "3 小于5\n",
            "4 小于5\n",
            "5 大于或等于5\n"
          ]
        }
      ]
    },
    {
      "cell_type": "code",
      "source": [
        "prompt = '\\nTell me something, and I will repeat it back to you:'\n",
        "prompt += \"\\nEnter 'quit' to end the program.\"\n",
        "message = ''\n",
        "while message != 'quit' :\n",
        "    message = input('prompt:')\n",
        "    if message != 'quit':\n",
        "      print(message)"
      ],
      "metadata": {
        "colab": {
          "base_uri": "https://localhost:8080/"
        },
        "id": "-lkJV9r8rU7F",
        "outputId": "03622669-fbac-4a59-e4e3-3248de81868a"
      },
      "execution_count": 9,
      "outputs": [
        {
          "name": "stdout",
          "output_type": "stream",
          "text": [
            "prompt:abc\n",
            "abc\n",
            "prompt:quit\n"
          ]
        }
      ]
    },
    {
      "cell_type": "code",
      "source": [
        "a = [12,3,45,7,8,4]\n",
        "even = []\n",
        "odd = []\n",
        "while len(a)>0:\n",
        "  num = a.pop()\n",
        "  if num % 2 == 0 : even.append(num)\n",
        "  else :odd.append(num)\n",
        "print('even:',even)\n",
        "print('odd:',odd)"
      ],
      "metadata": {
        "colab": {
          "base_uri": "https://localhost:8080/"
        },
        "id": "yiN3mkCDspdM",
        "outputId": "620eb8c7-fd80-4c64-ef79-bd3e4721a048"
      },
      "execution_count": 10,
      "outputs": [
        {
          "output_type": "stream",
          "name": "stdout",
          "text": [
            "even: [4, 8, 12]\n",
            "odd: [7, 45, 3]\n"
          ]
        }
      ]
    },
    {
      "cell_type": "code",
      "source": [
        "a = [12,3,45,7,8,4]\n",
        "even = []\n",
        "odd = []\n",
        "for i in range(len(a)):\n",
        "  num = a[i]\n",
        "  if num % 2 == 0:even.append(num)\n",
        "  else : odd.append(num)\n",
        "print('even:',even)\n",
        "print('odd:',odd)"
      ],
      "metadata": {
        "colab": {
          "base_uri": "https://localhost:8080/"
        },
        "id": "p2NIYkt_tP1h",
        "outputId": "7d7626ec-70f6-4f26-f132-4e4f2ae2c1e4"
      },
      "execution_count": 12,
      "outputs": [
        {
          "output_type": "stream",
          "name": "stdout",
          "text": [
            "even: [12, 8, 4]\n",
            "odd: [3, 45, 7]\n"
          ]
        }
      ]
    },
    {
      "cell_type": "code",
      "source": [
        "dict = {'school':'niit','specialty':'mobile','grade':'16级'}\n",
        "for k,v in dict.items():\n",
        "  print(k,v)"
      ],
      "metadata": {
        "colab": {
          "base_uri": "https://localhost:8080/"
        },
        "id": "n9xbaUG7tuyR",
        "outputId": "9b67cd34-e594-4431-fbf7-ffcd938d5f33"
      },
      "execution_count": 13,
      "outputs": [
        {
          "output_type": "stream",
          "name": "stdout",
          "text": [
            "school niit\n",
            "specialty mobile\n",
            "grade 16级\n"
          ]
        }
      ]
    },
    {
      "cell_type": "code",
      "source": [
        "weekdays =['Sun','Mon','Tue','Wed','Thu','Fri','Sat']\n",
        "drinks =['Coffee','tea','bear','Wed','Thu','Fri']\n",
        "for i, d, w in zip(range(1,8), drinks, weekdays):\n",
        "  print(i, d, w)"
      ],
      "metadata": {
        "colab": {
          "base_uri": "https://localhost:8080/"
        },
        "id": "e44LRApsuDin",
        "outputId": "2fe6e570-983d-403c-a389-5d7ca6741415"
      },
      "execution_count": 14,
      "outputs": [
        {
          "output_type": "stream",
          "name": "stdout",
          "text": [
            "1 Coffee Sun\n",
            "2 tea Mon\n",
            "3 bear Tue\n",
            "4 Wed Wed\n",
            "5 Thu Thu\n",
            "6 Fri Fri\n"
          ]
        }
      ]
    },
    {
      "cell_type": "code",
      "source": [
        "for i, v in enumerate(['tic','tac','toe']):\n",
        "  print(i,'-', v)"
      ],
      "metadata": {
        "colab": {
          "base_uri": "https://localhost:8080/"
        },
        "id": "w2QEGWsGvn-Y",
        "outputId": "efa45fab-3f28-4cd0-d0cf-13db4f181855"
      },
      "execution_count": 15,
      "outputs": [
        {
          "output_type": "stream",
          "name": "stdout",
          "text": [
            "0 - tic\n",
            "1 - tac\n",
            "2 - toe\n"
          ]
        }
      ]
    },
    {
      "cell_type": "code",
      "source": [
        "questions =['name','quest','favorite color']\n",
        "answers =['lancelot','the holy grail','blue']\n",
        "for q, a in zip(questions, answers):\n",
        "  print('{0} - {1}'.format(q, a))"
      ],
      "metadata": {
        "colab": {
          "base_uri": "https://localhost:8080/"
        },
        "id": "1ftiOLTYvu3d",
        "outputId": "a792d1a7-7341-4c5c-dffc-2776c5c66db3"
      },
      "execution_count": 16,
      "outputs": [
        {
          "output_type": "stream",
          "name": "stdout",
          "text": [
            "name - lancelot\n",
            "quest - the holy grail\n",
            "favorite color - blue\n"
          ]
        }
      ]
    },
    {
      "cell_type": "code",
      "source": [
        "a = [12,3,45,7,8,4]\n",
        "even = []\n",
        "odd = []\n",
        "for i,v in enumerate(a):\n",
        "  if v % 2 == 0:even.append(v)\n",
        "  else : odd.append(v)\n",
        "print('even:',even)\n",
        "print('odd:',odd)"
      ],
      "metadata": {
        "colab": {
          "base_uri": "https://localhost:8080/"
        },
        "id": "QlDL-7DuwDYs",
        "outputId": "96195778-6617-4e76-9fed-afa2a10e5471"
      },
      "execution_count": 18,
      "outputs": [
        {
          "output_type": "stream",
          "name": "stdout",
          "text": [
            "even: [12, 8, 4]\n",
            "odd: [3, 45, 7]\n"
          ]
        }
      ]
    },
    {
      "cell_type": "code",
      "source": [
        "for n in range(2,10):\n",
        "  for x in range(2,n):\n",
        "    if n % x == 0:\n",
        "      print(n,'等于',x,'*',n//x)\n",
        "      break\n",
        "  else : print(n,'是质数')"
      ],
      "metadata": {
        "colab": {
          "base_uri": "https://localhost:8080/"
        },
        "id": "df4dg5bLwx5E",
        "outputId": "94c5c56e-3f16-44ce-aa64-dced417ef46c"
      },
      "execution_count": 22,
      "outputs": [
        {
          "output_type": "stream",
          "name": "stdout",
          "text": [
            "2 是质数\n",
            "3 是质数\n",
            "4 等于 2 * 2\n",
            "5 是质数\n",
            "6 等于 2 * 3\n",
            "7 是质数\n",
            "8 等于 2 * 4\n",
            "9 等于 3 * 3\n"
          ]
        }
      ]
    },
    {
      "cell_type": "code",
      "source": [
        "n = int(input(\"输入一个数字\"))\n",
        "sum = 1\n",
        "for i in range(1,n):\n",
        "  sum += sum * i\n",
        "print(sum)"
      ],
      "metadata": {
        "colab": {
          "base_uri": "https://localhost:8080/"
        },
        "id": "XPa5egXYyp9J",
        "outputId": "00088f88-6e7a-423b-d883-79c9aa07e25b"
      },
      "execution_count": 29,
      "outputs": [
        {
          "output_type": "stream",
          "name": "stdout",
          "text": [
            "输入一个数字5\n",
            "120\n"
          ]
        }
      ]
    },
    {
      "cell_type": "code",
      "source": [
        "y = int(input('请输入年份:'))\n",
        "m = int(input('请输入月份:'))\n",
        "days = 0\n",
        "if m in (1,3,5,7,8,10,12):\n",
        "  days = 31\n",
        "elif m in (4,6,9,11):\n",
        "  days = 30\n",
        "else : \n",
        "  if y%4==0 and y%100!=0 or (y%400==0):\n",
        "    days = 29\n",
        "  else:\n",
        "    days = 28\n",
        "print(days)"
      ],
      "metadata": {
        "colab": {
          "base_uri": "https://localhost:8080/"
        },
        "id": "97A9AOYU4zoX",
        "outputId": "714c16f0-6f60-44ab-e388-39e62344d771"
      },
      "execution_count": 38,
      "outputs": [
        {
          "output_type": "stream",
          "name": "stdout",
          "text": [
            "请输入年份:2024\n",
            "请输入月份:2\n",
            "29\n"
          ]
        }
      ]
    },
    {
      "cell_type": "code",
      "source": [
        "import math\n",
        "def quadratic(a,b,c):\n",
        "  result = b**2 - 4*a*c\n",
        "  if result > 0:\n",
        "    x = (-b+math.sqrt(result))/(2*a)\n",
        "    y = (-b-math.sqrt(result))/(2*a)\n",
        "    return x,y\n",
        "  elif result == 0:\n",
        "    x = -b/2*a\n",
        "    return x\n",
        "  else : return '无解'\n",
        "quadratic(2,4,2)"
      ],
      "metadata": {
        "id": "KCiIkQ_q5WKC"
      },
      "execution_count": null,
      "outputs": []
    },
    {
      "cell_type": "code",
      "source": [
        "def changeInt(a):\n",
        "  a = '10'\n",
        "b = '2'\n",
        "changeInt(b)\n",
        "print(b)"
      ],
      "metadata": {
        "colab": {
          "base_uri": "https://localhost:8080/"
        },
        "id": "aag_62XtKcJp",
        "outputId": "5a6ef4c5-c7e8-4133-87a4-d4fa31639bd0"
      },
      "execution_count": 51,
      "outputs": [
        {
          "output_type": "stream",
          "name": "stdout",
          "text": [
            "2\n"
          ]
        }
      ]
    },
    {
      "cell_type": "code",
      "source": [
        "def changeMe(myList):\n",
        "  myList.append([1,2,3,4])\n",
        "  print('函数内:',myList)\n",
        "myList = [10,20,30]\n",
        "changeMe(myList)\n",
        "print('函数外:',myList)"
      ],
      "metadata": {
        "colab": {
          "base_uri": "https://localhost:8080/"
        },
        "id": "IVgjsnLHKnyr",
        "outputId": "bc1cd115-e326-4f95-8814-880e31e42a95"
      },
      "execution_count": 53,
      "outputs": [
        {
          "output_type": "stream",
          "name": "stdout",
          "text": [
            "函数内: [10, 20, 30, [1, 2, 3, 4]]\n",
            "函数外: [10, 20, 30, [1, 2, 3, 4]]\n"
          ]
        }
      ]
    },
    {
      "cell_type": "code",
      "source": [
        "y = int(input('请输入年份:'))\n",
        "m = int(input('请输入月份:'))\n",
        "def isLeap(y):\n",
        "  return (y%4==0 and y%100!=0) or (y%400==0)\n",
        "def calDay(y,m):\n",
        "  days = 0\n",
        "  if m in (1,3,5,7,8,10,12):\n",
        "    days = 31\n",
        "  elif m in (4,6,9,11):\n",
        "    days = 30\n",
        "  else : \n",
        "    if isLeap(y):\n",
        "      days = 29\n",
        "    else:\n",
        "      days = 28\n",
        "  return days\n",
        "calDay(y,m)"
      ],
      "metadata": {
        "colab": {
          "base_uri": "https://localhost:8080/"
        },
        "id": "3N2d2gOzOP7-",
        "outputId": "cafca040-3c12-4ffd-eaaa-51477d350013"
      },
      "execution_count": 57,
      "outputs": [
        {
          "name": "stdout",
          "output_type": "stream",
          "text": [
            "请输入年份:2020\n",
            "请输入月份:2\n"
          ]
        },
        {
          "output_type": "execute_result",
          "data": {
            "text/plain": [
              "29"
            ]
          },
          "metadata": {},
          "execution_count": 57
        }
      ]
    }
  ]
}