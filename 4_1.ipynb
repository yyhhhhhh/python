{
  "nbformat": 4,
  "nbformat_minor": 0,
  "metadata": {
    "colab": {
      "name": "4.1.ipynb",
      "provenance": [],
      "authorship_tag": "ABX9TyPfc/ImmBi/A3CE3wEIbV+4",
      "include_colab_link": true
    },
    "kernelspec": {
      "name": "python3",
      "display_name": "Python 3"
    },
    "language_info": {
      "name": "python"
    }
  },
  "cells": [
    {
      "cell_type": "markdown",
      "metadata": {
        "id": "view-in-github",
        "colab_type": "text"
      },
      "source": [
        "<a href=\"https://colab.research.google.com/github/yyhhhhhh/python/blob/main/4_1.ipynb\" target=\"_parent\"><img src=\"https://colab.research.google.com/assets/colab-badge.svg\" alt=\"Open In Colab\"/></a>"
      ]
    },
    {
      "cell_type": "code",
      "execution_count": 9,
      "metadata": {
        "colab": {
          "base_uri": "https://localhost:8080/"
        },
        "id": "_FVtoPOhlfQm",
        "outputId": "ee8b795c-5e4e-46fc-b536-278fab5f1f0e"
      },
      "outputs": [
        {
          "output_type": "stream",
          "name": "stdout",
          "text": [
            "numbers: (1,)\n",
            "1\n",
            "numbers: (1, 2)\n",
            "3\n",
            "numbers: (1, 2, 3)\n",
            "6\n",
            "numbers: (1, 2, 3, 4)\n",
            "10\n",
            "numbers: (1, 2, 3, 4)\n",
            "10\n"
          ]
        }
      ],
      "source": [
        "def add(*numbers):\n",
        "  '''计算多个数的和'''\n",
        "  print(f'numbers: {numbers}')\n",
        "  sum = 0\n",
        "  for i in numbers:\n",
        "    sum += i\n",
        "  return sum\n",
        "print(add(1))\n",
        "print(add(1,2))\n",
        "print(add(1,2,3))\n",
        "print(add(1,2,3,4))\n",
        "\n",
        "a =[1,2,3,4]\n",
        "print(add(*a))\n"
      ]
    },
    {
      "cell_type": "code",
      "source": [
        "def sum(a, b,**kwargs):\n",
        "  '''计算多个数的和'''\n",
        "  sum= a + b\n",
        "  for k, v in kwargs.items():\n",
        "    sum+= v\n",
        "  return sum\n",
        "print(sum(1,2))\n",
        "\n",
        "k_v ={'x':2,'y':6}\n",
        "print(sum(1,2,**k_v))\n",
        "print(sum(1,2,x=2,y=6))"
      ],
      "metadata": {
        "colab": {
          "base_uri": "https://localhost:8080/"
        },
        "id": "OM2yaa3Br3ph",
        "outputId": "e17376ba-777e-4e49-ee5b-79c076bb23f1"
      },
      "execution_count": 8,
      "outputs": [
        {
          "output_type": "stream",
          "name": "stdout",
          "text": [
            "3\n",
            "11\n",
            "11\n"
          ]
        }
      ]
    },
    {
      "cell_type": "code",
      "source": [
        "def func(x,y,z=0,*args,**kwargs):\n",
        "  print(f'x = {x}')\n",
        "  print(f'y = {y}')\n",
        "  print(f'z = {z}')\n",
        "  print(f'args = {args}')\n",
        "  print(f'kwargs = {kwargs}')\n",
        "func(1,2)\n",
        "func(1,2,3)\n",
        "func(1,2,3,4,5,6)\n",
        "func(1,2,4,u=6,v=7)\n",
        "func(1,2,4,5,u=6,v=7)\n",
        "\n",
        "a = (1,2,3)\n",
        "b = {'u':6,'v':7}\n",
        "func(*a,**b)"
      ],
      "metadata": {
        "colab": {
          "base_uri": "https://localhost:8080/"
        },
        "id": "lqAk8RwewVkt",
        "outputId": "519bedf7-447f-4212-830a-8517871c7b4d"
      },
      "execution_count": 10,
      "outputs": [
        {
          "output_type": "stream",
          "name": "stdout",
          "text": [
            "x = 1\n",
            "y = 2\n",
            "z = 0\n",
            "args = ()\n",
            "kwargs = {}\n",
            "x = 1\n",
            "y = 2\n",
            "z = 3\n",
            "args = ()\n",
            "kwargs = {}\n",
            "x = 1\n",
            "y = 2\n",
            "z = 3\n",
            "args = (4, 5, 6)\n",
            "kwargs = {}\n",
            "x = 1\n",
            "y = 2\n",
            "z = 4\n",
            "args = ()\n",
            "kwargs = {'u': 6, 'v': 7}\n",
            "x = 1\n",
            "y = 2\n",
            "z = 4\n",
            "args = (5,)\n",
            "kwargs = {'u': 6, 'v': 7}\n",
            "x = 1\n",
            "y = 2\n",
            "z = 3\n",
            "args = ()\n",
            "kwargs = {'u': 6, 'v': 7}\n"
          ]
        }
      ]
    },
    {
      "cell_type": "code",
      "source": [
        "def add(*food):\n",
        "  sum = ''\n",
        "  for i in food:\n",
        "    sum += i\n",
        "  return sum\n",
        "\n",
        "print('顾客里的三明治里有:'+add('肉','生菜'))\n",
        "print('顾客里的三明治里有:'+add('肉松','生菜'))\n",
        "print('顾客里的三明治里有:'+add('培根','生菜'))"
      ],
      "metadata": {
        "colab": {
          "base_uri": "https://localhost:8080/"
        },
        "id": "ItNi72kExXCa",
        "outputId": "398486fc-81a8-4f98-b7f0-0a9f903ce29c"
      },
      "execution_count": 16,
      "outputs": [
        {
          "output_type": "stream",
          "name": "stdout",
          "text": [
            "顾客里的三明治里有:肉生菜\n",
            "顾客里的三明治里有:肉松生菜\n",
            "顾客里的三明治里有:培根生菜\n"
          ]
        }
      ]
    },
    {
      "cell_type": "code",
      "source": [
        "def make_car(a,b,**kwargs):\n",
        "  info = {'manufacturer':a,'model':b}\n",
        "  for k,v in kwargs.items():\n",
        "    info[k] = v\n",
        "  return info\n",
        "\n",
        "car = make_car('subaru','outback',color='blue',tow_package=True)\n",
        "print(car)"
      ],
      "metadata": {
        "colab": {
          "base_uri": "https://localhost:8080/"
        },
        "id": "tzO2FRgdznF7",
        "outputId": "b5fd996f-d6fa-4a0c-e926-f3b0250acce0"
      },
      "execution_count": 18,
      "outputs": [
        {
          "output_type": "stream",
          "name": "stdout",
          "text": [
            "{'manufacturer': 'subaru', 'model': 'outback', 'color': 'blue', 'tow_package': True}\n"
          ]
        }
      ]
    },
    {
      "cell_type": "code",
      "source": [
        "def mul(a,*args):\n",
        "  sum = 1\n",
        "  for i in args:\n",
        "    sum *= i\n",
        "  return sum*a\n",
        "\n",
        "print('mul(5) =', mul(5))\n",
        "print('mul(5, 6) =', mul(5, 6))\n",
        "print('mul(5, 6, 7) =', mul(5, 6, 7))\n",
        "print('mul(5, 6, 7, 9) =', mul(5, 6, 7, 9))\n",
        "if mul(5) != 5:\n",
        "    print('测试失败!')\n",
        "elif mul(5, 6) != 30:\n",
        "    print('测试失败!')\n",
        "elif mul(5, 6, 7) != 210:\n",
        "    print('测试失败!')\n",
        "elif mul(5, 6, 7, 9) != 1890:\n",
        "    print('测试失败!')\n",
        "else:\n",
        "    try:\n",
        "        mul()\n",
        "        print('测试失败!')\n",
        "    except TypeError:\n",
        "        print('测试成功!')"
      ],
      "metadata": {
        "colab": {
          "base_uri": "https://localhost:8080/"
        },
        "id": "ZfW4vJOR1wsT",
        "outputId": "ffcd1da0-a349-49fb-aba1-9b42eca4462d"
      },
      "execution_count": 34,
      "outputs": [
        {
          "output_type": "stream",
          "name": "stdout",
          "text": [
            "mul(5) = 5\n",
            "mul(5, 6) = 30\n",
            "mul(5, 6, 7) = 210\n",
            "mul(5, 6, 7, 9) = 1890\n",
            "测试成功!\n"
          ]
        }
      ]
    },
    {
      "cell_type": "code",
      "source": [
        "def move(n,a,b,c):\n",
        "  if n == 1:\n",
        "    print(a,'-->',c)\n",
        "  else:\n",
        "    move(n-1,a,c,b)\n",
        "    move(1,a,b,c)\n",
        "    move(n-1,b,a,c)\n",
        "move(3,'a','b','c')"
      ],
      "metadata": {
        "colab": {
          "base_uri": "https://localhost:8080/"
        },
        "id": "zrmapBLG74Nc",
        "outputId": "493589ba-4158-4099-d220-daf64c4a9851"
      },
      "execution_count": 35,
      "outputs": [
        {
          "output_type": "stream",
          "name": "stdout",
          "text": [
            "a --> c\n",
            "a --> b\n",
            "c --> b\n",
            "a --> c\n",
            "b --> a\n",
            "b --> c\n",
            "a --> c\n"
          ]
        }
      ]
    },
    {
      "cell_type": "code",
      "source": [
        "sum=lambda arg1, arg2: arg1 + arg2\n",
        "print(sum(10,20))\n",
        "\n",
        "pairs = [(1,'one'),(2,'two'),(3,'three'),(4,'four')]\n",
        "pairs.sort(key=lambda pair : pair[1])\n",
        "print(pairs)\n",
        "\n",
        "print((lambda x: 2 * x)(8))\n",
        "\n",
        "def make_incrementor(n):\n",
        "  return lambda x: x + n\n",
        "\n",
        "func = make_incrementor(42)\n",
        "print(func(1))\n",
        "\n",
        "def func(g,arr):\n",
        "  return [g(x) for x in arr]\n",
        "\n",
        "arr = func(lambda x: x+1,list(range(1,11)))\n",
        "print(arr)"
      ],
      "metadata": {
        "colab": {
          "base_uri": "https://localhost:8080/"
        },
        "id": "KMA3_QVxGn4E",
        "outputId": "94ab049f-9086-4316-a3b0-c4ed02069e0e"
      },
      "execution_count": 39,
      "outputs": [
        {
          "output_type": "stream",
          "name": "stdout",
          "text": [
            "30\n",
            "[(4, 'four'), (1, 'one'), (3, 'three'), (2, 'two')]\n",
            "16\n",
            "43\n",
            "[2, 3, 4, 5, 6, 7, 8, 9, 10, 11]\n"
          ]
        }
      ]
    },
    {
      "cell_type": "code",
      "source": [
        "values = list(map(lambda x: x*x,[1,2,3,4]))\n",
        "print(values)\n",
        "\n",
        "def func(a,b):\n",
        "  return a + b\n",
        "\n",
        "list1 = [4,2,3]\n",
        "list2 = [5,1,7,8]\n",
        "\n",
        "result = map(lambda x,y:func(x,y),list1,list2)\n",
        "print(list(result))"
      ],
      "metadata": {
        "colab": {
          "base_uri": "https://localhost:8080/"
        },
        "id": "cwRFAPMRMK9-",
        "outputId": "8aef014e-8bd0-4afc-f5f2-62da6474ddc1"
      },
      "execution_count": 43,
      "outputs": [
        {
          "output_type": "stream",
          "name": "stdout",
          "text": [
            "[1, 4, 9, 16]\n",
            "[9, 3, 10]\n"
          ]
        }
      ]
    },
    {
      "cell_type": "code",
      "source": [
        "letters = list('abdepjisoru')\n",
        "\n",
        "def filter_non_vowels(letters):\n",
        "  vowels = ['a','e','i','o','u']\n",
        "  if letters in vowels:\n",
        "    return False\n",
        "  return True\n",
        "\n",
        "filter_non_vowels = filter(filter_non_vowels,letters)\n",
        "\n",
        "print('The filtered non-vowels are:')\n",
        "for non_vowel in filter_non_vowels:\n",
        "  print(non_vowel,end='')"
      ],
      "metadata": {
        "colab": {
          "base_uri": "https://localhost:8080/"
        },
        "id": "tFNMh84WM1M_",
        "outputId": "31749b78-9115-4030-f724-956634148619"
      },
      "execution_count": 44,
      "outputs": [
        {
          "output_type": "stream",
          "name": "stdout",
          "text": [
            "The filtered non-vowels are:\n",
            "bdpjsr"
          ]
        }
      ]
    },
    {
      "cell_type": "code",
      "source": [
        "from functools import reduce\n",
        "\n",
        "sum = reduce(lambda a,b: a+b,[23,21,45,98])\n",
        "print(sum)\n",
        "\n",
        "f = lambda a,b: a if(a>b) else b\n",
        "print(reduce(f,[23,21,45,98]))\n",
        "\n",
        "def fn(x,y):\n",
        "  return x * 10 + y\n",
        "\n",
        "DIGITS ={'0':0,'1':1,'2':2,'3':3,'4':4,'5':5,'6':6,'7':7,'8':8,'9':9}\n",
        "\n",
        "def char2num(s):\n",
        "  return DIGITS[s]\n",
        "\n",
        "def str2int(s):\n",
        "  return reduce(lambda x,y: x * 10 + y,map(char2num,s))\n",
        "\n",
        "print(str2int('12345'))"
      ],
      "metadata": {
        "colab": {
          "base_uri": "https://localhost:8080/"
        },
        "id": "sJN8nmu2Nsx5",
        "outputId": "df3d9a2e-4d21-4bd7-c25a-ffd176be98bc"
      },
      "execution_count": 47,
      "outputs": [
        {
          "output_type": "stream",
          "name": "stdout",
          "text": [
            "187\n",
            "98\n",
            "12345\n"
          ]
        }
      ]
    }
  ]
}