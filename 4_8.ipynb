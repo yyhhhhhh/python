{
  "nbformat": 4,
  "nbformat_minor": 0,
  "metadata": {
    "colab": {
      "name": "4.8.ipynb",
      "provenance": [],
      "authorship_tag": "ABX9TyMAPdda5C+ODZ3pRfBV2CLg",
      "include_colab_link": true
    },
    "kernelspec": {
      "name": "python3",
      "display_name": "Python 3"
    },
    "language_info": {
      "name": "python"
    }
  },
  "cells": [
    {
      "cell_type": "markdown",
      "metadata": {
        "id": "view-in-github",
        "colab_type": "text"
      },
      "source": [
        "<a href=\"https://colab.research.google.com/github/yyhhhhhh/python/blob/main/4_8.ipynb\" target=\"_parent\"><img src=\"https://colab.research.google.com/assets/colab-badge.svg\" alt=\"Open In Colab\"/></a>"
      ]
    },
    {
      "cell_type": "code",
      "execution_count": 8,
      "metadata": {
        "id": "Erh0zvClrO_x"
      },
      "outputs": [],
      "source": [
        "def fib(counter):\n",
        "  result = []\n",
        "  a,b,n = 0,1,0\n",
        "  while n < counter:\n",
        "    result.append(b)\n",
        "    a,b = b,a+b\n",
        "    n += 1\n",
        "  return result\n",
        "\n",
        "def fibonacci(counter):\n",
        "  a,b,n = 0,1,0\n",
        "  while n < counter:\n",
        "    yield b\n",
        "    a,b = b,a+b\n",
        "    n += 1"
      ]
    },
    {
      "cell_type": "code",
      "source": [
        "from datetime import datetime\n",
        "print(dir(datetime))\n",
        "today = datetime.now()\n",
        "print(today)\n",
        "print(f'日期:{today.year}-{today.month}-{today.day}')\n",
        "print(f'时间:{today.hour}-{today.minute}-{today.second}')\n",
        "\n",
        "today_str = today.strftime('%Y-%m-%d %H:%M:%S')\n",
        "print(f'字符串:{today_str}')\n",
        "\n",
        "now_date = datetime.strptime(today_str,'%Y-%m-%d %H:%M:%S')\n",
        "print(f'datetime:{now_date}')"
      ],
      "metadata": {
        "colab": {
          "base_uri": "https://localhost:8080/"
        },
        "id": "f9SSK7RR5_lQ",
        "outputId": "5ba21abf-2ab3-4c98-d07c-3fc9901669d2"
      },
      "execution_count": 6,
      "outputs": [
        {
          "output_type": "stream",
          "name": "stdout",
          "text": [
            "['__add__', '__class__', '__delattr__', '__dir__', '__doc__', '__eq__', '__format__', '__ge__', '__getattribute__', '__gt__', '__hash__', '__init__', '__init_subclass__', '__le__', '__lt__', '__ne__', '__new__', '__radd__', '__reduce__', '__reduce_ex__', '__repr__', '__rsub__', '__setattr__', '__sizeof__', '__str__', '__sub__', '__subclasshook__', 'astimezone', 'combine', 'ctime', 'date', 'day', 'dst', 'fold', 'fromisoformat', 'fromordinal', 'fromtimestamp', 'hour', 'isocalendar', 'isoformat', 'isoweekday', 'max', 'microsecond', 'min', 'minute', 'month', 'now', 'replace', 'resolution', 'second', 'strftime', 'strptime', 'time', 'timestamp', 'timetuple', 'timetz', 'today', 'toordinal', 'tzinfo', 'tzname', 'utcfromtimestamp', 'utcnow', 'utcoffset', 'utctimetuple', 'weekday', 'year']\n",
            "2022-04-08 06:47:17.595084\n",
            "日期:2022-4-8\n",
            "时间:6-47-17\n",
            "字符串:2022-04-08 06:47:17\n",
            "datetime:2022-04-08 06:47:17\n"
          ]
        }
      ]
    },
    {
      "cell_type": "code",
      "source": [
        "import itertools\n",
        "\n",
        "natuals = itertools.count(start=1,step=2)\n",
        "for x in natuals:\n",
        "  if x > 10:\n",
        "    break;\n",
        "  print(x)\n",
        "\n",
        "natuals = itertools.count(1)\n",
        "ns = itertools.takewhile(lambda x: x <= 10,natuals)\n",
        "print(ns)\n",
        "print(list(ns))"
      ],
      "metadata": {
        "colab": {
          "base_uri": "https://localhost:8080/"
        },
        "id": "LDQEZe6C-U1K",
        "outputId": "85c84c6d-f982-4662-d4b2-ca093db9614c"
      },
      "execution_count": 7,
      "outputs": [
        {
          "output_type": "stream",
          "name": "stdout",
          "text": [
            "1\n",
            "3\n",
            "5\n",
            "7\n",
            "9\n",
            "<itertools.takewhile object at 0x7fb471777730>\n",
            "[1, 2, 3, 4, 5, 6, 7, 8, 9, 10]\n"
          ]
        }
      ]
    },
    {
      "cell_type": "code",
      "source": [
        "import itertools\n",
        "def pi(N):\n",
        "  natuals = itertools.count(1)\n",
        "  ns = itertools.takewhile(lambda x: x < N + 1,natuals)\n",
        "  "
      ],
      "metadata": {
        "id": "pLIErCk3_s03"
      },
      "execution_count": null,
      "outputs": []
    },
    {
      "cell_type": "code",
      "source": [
        "from PIL import Image,ImageDraw,ImageFont,ImageFilter\n",
        "import random\n",
        "\n",
        "def randChar():\n",
        "    return chr(random.randint(65,90))\n",
        "\n",
        "def rndColor():\n",
        "    return (random.randint(64,255),\n",
        "            random.randint(64,255),\n",
        "            random.randint(65,255))\n",
        "\n",
        "def rndColor2():\n",
        "    return (random.randint(32,127),\n",
        "            random.randint(32,127),\n",
        "            random.randint(32,127))\n",
        "\n",
        "width = 60 * 4\n",
        "height = 60\n",
        "image = Image.new('RGB',(width,height),(255,255,255))\n",
        "\n",
        "font = ImageFont.truetype('/Library/Fonts/Arial\\\\ Unicode.ttf',36)\n",
        "draw = ImageDraw.Draw(image)\n",
        "\n",
        "for x in range(width):\n",
        "    for y in range(height):\n",
        "        draw.point((x,y), fill = rndColor())\n",
        "\n",
        "for t in range(4):\n",
        "    draw.text((60*t+10,10),randChar(),font=font,fill=rndColor2())\n",
        "\n",
        "image = image.filter(ImageFilter.BLUR)\n",
        "image.save('code.jsp','jpeg')"
      ],
      "metadata": {
        "id": "dPpF3gh7NcRk"
      },
      "execution_count": null,
      "outputs": []
    },
    {
      "cell_type": "code",
      "source": [
        "filename = r'./readme.txt'\n",
        "with open(filename,'w',encoding='utf-8' ) as f:\n",
        "    f.write(\"hello python!\\n\")\n",
        "    f.write(\"今天天气真好!\\n\")\n",
        "    f.write(\"\"\"hello python!\n",
        "    今天天气真好\"\"\")\n",
        "\n",
        "filename = r'./readme.txt'\n",
        "\n",
        "with open(filename,'r',encoding='utf-8') as f:\n",
        "    for line in f :\n",
        "        print(line)"
      ],
      "metadata": {
        "colab": {
          "base_uri": "https://localhost:8080/"
        },
        "id": "nzcOfMvjTWEp",
        "outputId": "d2b3af64-e9ed-4948-f91e-f2070336caee"
      },
      "execution_count": 10,
      "outputs": [
        {
          "output_type": "stream",
          "name": "stdout",
          "text": [
            "hello python!\n",
            "\n",
            "今天天气真好!\n",
            "\n",
            "hello python!\n",
            "\n",
            "    今天天气真好\n"
          ]
        }
      ]
    }
  ]
}