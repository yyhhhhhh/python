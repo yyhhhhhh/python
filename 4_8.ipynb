{
  "nbformat": 4,
  "nbformat_minor": 0,
  "metadata": {
    "colab": {
      "name": "4.8.ipynb",
      "provenance": [],
      "authorship_tag": "ABX9TyMTnVYfjmnj+MX9sUA0E7P+",
      "include_colab_link": true
    },
    "kernelspec": {
      "name": "python3",
      "display_name": "Python 3"
    },
    "language_info": {
      "name": "python"
    }
  },
  "cells": [
    {
      "cell_type": "markdown",
      "metadata": {
        "id": "view-in-github",
        "colab_type": "text"
      },
      "source": [
        "<a href=\"https://colab.research.google.com/github/yyhhhhhh/python/blob/main/4_8.ipynb\" target=\"_parent\"><img src=\"https://colab.research.google.com/assets/colab-badge.svg\" alt=\"Open In Colab\"/></a>"
      ]
    },
    {
      "cell_type": "code",
      "execution_count": null,
      "metadata": {
        "id": "Erh0zvClrO_x"
      },
      "outputs": [],
      "source": [
        "def fib(counter):\n",
        "  result = []\n",
        "  a,b,n = 0,1,0\n",
        "  while n < counter:\n",
        "    result.append(b)\n",
        "    a,b = b,a+b\n",
        "    n += 1\n",
        "  return result\n",
        "\n",
        "def fibonacci(counter):\n",
        "  a,b,n = 0,1,0\n",
        "  while n < counter:\n",
        "    yield b\n",
        "    a,b = b,a+b\n",
        "    n += 1"
      ]
    },
    {
      "cell_type": "code",
      "source": [
        "from datetime import datetime\n",
        "print(dir(datetime))\n",
        "today = datetime.now()\n",
        "print(today)\n",
        "print(f'日期:{today.year}-{today.month}-{today.day}')\n",
        "print(f'时间:{today.hour}-{today.minute}-{today.second}')\n",
        "\n",
        "today_str = today.strftime('%Y-%m-%d %H:%M:%S')\n",
        "print(f'字符串:{today_str}')\n",
        "\n",
        "now_date = datetime.strptime(today_str,'%Y-%m-%d %H:%M:%S')\n",
        "print(f'datetime:{now_date}')"
      ],
      "metadata": {
        "colab": {
          "base_uri": "https://localhost:8080/"
        },
        "id": "f9SSK7RR5_lQ",
        "outputId": "5ba21abf-2ab3-4c98-d07c-3fc9901669d2"
      },
      "execution_count": null,
      "outputs": [
        {
          "output_type": "stream",
          "name": "stdout",
          "text": [
            "['__add__', '__class__', '__delattr__', '__dir__', '__doc__', '__eq__', '__format__', '__ge__', '__getattribute__', '__gt__', '__hash__', '__init__', '__init_subclass__', '__le__', '__lt__', '__ne__', '__new__', '__radd__', '__reduce__', '__reduce_ex__', '__repr__', '__rsub__', '__setattr__', '__sizeof__', '__str__', '__sub__', '__subclasshook__', 'astimezone', 'combine', 'ctime', 'date', 'day', 'dst', 'fold', 'fromisoformat', 'fromordinal', 'fromtimestamp', 'hour', 'isocalendar', 'isoformat', 'isoweekday', 'max', 'microsecond', 'min', 'minute', 'month', 'now', 'replace', 'resolution', 'second', 'strftime', 'strptime', 'time', 'timestamp', 'timetuple', 'timetz', 'today', 'toordinal', 'tzinfo', 'tzname', 'utcfromtimestamp', 'utcnow', 'utcoffset', 'utctimetuple', 'weekday', 'year']\n",
            "2022-04-08 06:47:17.595084\n",
            "日期:2022-4-8\n",
            "时间:6-47-17\n",
            "字符串:2022-04-08 06:47:17\n",
            "datetime:2022-04-08 06:47:17\n"
          ]
        }
      ]
    },
    {
      "cell_type": "code",
      "source": [
        "import itertools\n",
        "\n",
        "natuals = itertools.count(start=1,step=2)\n",
        "for x in natuals:\n",
        "  if x > 10:\n",
        "    break;\n",
        "  print(x)\n",
        "\n",
        "natuals = itertools.count(1)\n",
        "ns = itertools.takewhile(lambda x: x <= 10,natuals)\n",
        "print(ns)\n",
        "print(list(ns))"
      ],
      "metadata": {
        "colab": {
          "base_uri": "https://localhost:8080/"
        },
        "id": "LDQEZe6C-U1K",
        "outputId": "85c84c6d-f982-4662-d4b2-ca093db9614c"
      },
      "execution_count": null,
      "outputs": [
        {
          "output_type": "stream",
          "name": "stdout",
          "text": [
            "1\n",
            "3\n",
            "5\n",
            "7\n",
            "9\n",
            "<itertools.takewhile object at 0x7fb471777730>\n",
            "[1, 2, 3, 4, 5, 6, 7, 8, 9, 10]\n"
          ]
        }
      ]
    },
    {
      "cell_type": "code",
      "source": [
        "import itertools\n",
        "def pi(N):\n",
        "  natuals = itertools.count(1)\n",
        "  ns = itertools.takewhile(lambda x: x < N + 1,natuals)\n",
        "  "
      ],
      "metadata": {
        "id": "pLIErCk3_s03"
      },
      "execution_count": null,
      "outputs": []
    },
    {
      "cell_type": "code",
      "source": [
        "from PIL import Image,ImageDraw,ImageFont,ImageFilter\n",
        "import random\n",
        "\n",
        "def randChar():\n",
        "    return chr(random.randint(65,90))\n",
        "\n",
        "def rndColor():\n",
        "    return (random.randint(64,255),\n",
        "            random.randint(64,255),\n",
        "            random.randint(65,255))\n",
        "\n",
        "def rndColor2():\n",
        "    return (random.randint(32,127),\n",
        "            random.randint(32,127),\n",
        "            random.randint(32,127))\n",
        "\n",
        "width = 60 * 4\n",
        "height = 60\n",
        "image = Image.new('RGB',(width,height),(255,255,255))\n",
        "\n",
        "font = ImageFont.truetype('/Library/Fonts/Arial\\\\ Unicode.ttf',36)\n",
        "draw = ImageDraw.Draw(image)\n",
        "\n",
        "for x in range(width):\n",
        "    for y in range(height):\n",
        "        draw.point((x,y), fill = rndColor())\n",
        "\n",
        "for t in range(4):\n",
        "    draw.text((60*t+10,10),randChar(),font=font,fill=rndColor2())\n",
        "\n",
        "image = image.filter(ImageFilter.BLUR)\n",
        "image.save('code.jsp','jpeg')"
      ],
      "metadata": {
        "id": "dPpF3gh7NcRk"
      },
      "execution_count": null,
      "outputs": []
    },
    {
      "cell_type": "code",
      "source": [
        "filename = r'./readme.txt'\n",
        "with open(filename,'w',encoding='utf-8' ) as f:\n",
        "    f.write(\"hello python!\\n\")\n",
        "    f.write(\"今天天气真好!\\n\")\n",
        "    f.write(\"\"\"hello python!\n",
        "    今天天气真好\"\"\")\n",
        "\n",
        "filename = r'./readme.txt'\n",
        "\n",
        "with open(filename,'r',encoding='utf-8') as f:\n",
        "    for line in f :\n",
        "        print(line)"
      ],
      "metadata": {
        "colab": {
          "base_uri": "https://localhost:8080/"
        },
        "id": "nzcOfMvjTWEp",
        "outputId": "d2b3af64-e9ed-4948-f91e-f2070336caee"
      },
      "execution_count": null,
      "outputs": [
        {
          "output_type": "stream",
          "name": "stdout",
          "text": [
            "hello python!\n",
            "\n",
            "今天天气真好!\n",
            "\n",
            "hello python!\n",
            "\n",
            "    今天天气真好\n"
          ]
        }
      ]
    },
    {
      "cell_type": "code",
      "source": [
        "import json \n",
        "numbers = [2,3,5,7,11,13]\n",
        "filename = r'./json_data.json'\n",
        "with open(filename,'w') as f:\n",
        "  json.dump(numbers,f)\n",
        "with open(filename) as f:\n",
        "  numbers = json.load(f)\n",
        "print(numbers)"
      ],
      "metadata": {
        "colab": {
          "base_uri": "https://localhost:8080/"
        },
        "id": "AgLxUFGP0z1S",
        "outputId": "88387060-5be6-43fa-b65d-181c98317bce"
      },
      "execution_count": null,
      "outputs": [
        {
          "output_type": "stream",
          "name": "stdout",
          "text": [
            "[2, 3, 5, 7, 11, 13]\n"
          ]
        }
      ]
    },
    {
      "cell_type": "code",
      "source": [
        "import csv \n",
        "with open('./eggs.csv','w',newline='') as csvfile:    \n",
        "  writer = csv.writer(csvfile,delimiter=' ', quotechar='|',quoting=csv.QUOTE_MINIMAL)    \n",
        "  writer.writerow(['Spam']*5+['BakedBeans'])    \n",
        "  writer.writerow(['Spam','Lovely Spam','Wonderful Spam'])\n",
        "with open('./eggs.csv', newline='') as csvfile:\n",
        "      reader = csv.reader(csvfile,delimiter=' ', quotechar='|')\n",
        "      for row in reader:\n",
        "        print(', '.join(row))"
      ],
      "metadata": {
        "colab": {
          "base_uri": "https://localhost:8080/"
        },
        "id": "kX34conj2op1",
        "outputId": "98738fa2-163f-483a-dd66-2d95800ebc96"
      },
      "execution_count": null,
      "outputs": [
        {
          "output_type": "stream",
          "name": "stdout",
          "text": [
            "Spam, Spam, Spam, Spam, Spam, BakedBeans\n",
            "Spam, Lovely Spam, Wonderful Spam\n"
          ]
        }
      ]
    },
    {
      "cell_type": "code",
      "source": [
        "import csv\n",
        "with open('./names.csv','w',newline='')as csvfile:    \n",
        "  fieldnames =['first_name','last_name']    \n",
        "  writer = csv.DictWriter(csvfile,fieldnames=fieldnames)    \n",
        "  writer.writeheader()    \n",
        "  writer.writerow({'first_name':'Baked','last_name':'Beans'})    \n",
        "  writer.writerow({'first_name':'Lovely','last_name':'Spam'})    \n",
        "  writer.writerow({'first_name':'Wonderful','last_name':'Spam'})\n",
        "with open('./names.csv', newline='')as csvfile:    \n",
        "  reader = csv.DictReader(csvfile)\n",
        "  for row in reader:\n",
        "    print(row['first_name'],row['last_name'])\n"
      ],
      "metadata": {
        "colab": {
          "base_uri": "https://localhost:8080/"
        },
        "id": "d-oEkLk73CiO",
        "outputId": "386e09f6-1aeb-4e83-d301-93e34525598f"
      },
      "execution_count": null,
      "outputs": [
        {
          "output_type": "stream",
          "name": "stdout",
          "text": [
            "Baked Beans\n",
            "Lovely Spam\n",
            "Wonderful Spam\n"
          ]
        }
      ]
    },
    {
      "cell_type": "code",
      "source": [
        "import requests \n",
        "import json\n",
        "\n",
        "filename =r'./news_json.json'\n",
        "APIKEY ='b43774cd57b1131ad9e40c6f7904d1be'\n",
        "\n",
        "resp = requests.get(f'http://api.tianapi.com/ncovabroad/index?key={APIKEY}')\n",
        "news_data = json.loads(resp.text)\n",
        "if news_data['code']!=200:\n",
        "  print(f'请求失败，{news_data[\"msg\"]}')\n",
        "else:\n",
        "  for news in news_data['newslist']:\n",
        "    print(news['provinceName'])\n",
        "\n",
        "with open(filename,'w')as f:        \n",
        "  json.dump(news_data, f)"
      ],
      "metadata": {
        "id": "Rqkg2trD4-1l",
        "colab": {
          "base_uri": "https://localhost:8080/"
        },
        "outputId": "5fbc55df-9a96-4522-8d56-103f80d8fa90"
      },
      "execution_count": 10,
      "outputs": [
        {
          "output_type": "stream",
          "name": "stdout",
          "text": [
            "法国\n",
            "德国\n",
            "英国\n",
            "韩国\n",
            "美国\n",
            "西班牙\n",
            "印度\n",
            "土耳其\n",
            "意大利\n",
            "巴西\n",
            "荷兰\n",
            "俄罗斯\n",
            "越南\n",
            "日本\n",
            "比利时\n",
            "阿根廷\n",
            "奥地利\n",
            "瑞士\n",
            "伊朗\n",
            "希腊\n",
            "丹麦\n",
            "瑞典\n",
            "葡萄牙\n",
            "墨西哥\n",
            "斯洛伐克\n",
            "塞尔维亚\n",
            "波兰\n",
            "伊拉克\n",
            "智利\n",
            "爱尔兰\n",
            "乌克兰\n",
            "马来西亚\n",
            "挪威\n",
            "哈萨克斯坦\n",
            "秘鲁\n",
            "格鲁吉亚\n",
            "斯洛文尼亚\n",
            "罗马尼亚\n",
            "芬兰\n",
            "约旦\n",
            "黎巴嫩\n",
            "危地马拉\n",
            "澳大利亚\n",
            "蒙古\n",
            "阿塞拜疆\n",
            "克罗地亚\n",
            "立陶宛\n",
            "波多黎各\n",
            "多米尼加\n",
            "玻利维亚\n",
            "孟加拉国\n",
            "厄瓜多尔\n",
            "塞浦路斯\n",
            "留尼旺\n",
            "捷克\n",
            "突尼斯\n",
            "巴拿马\n",
            "洪都拉斯\n",
            "中国\n",
            "巴勒斯坦\n",
            "保加利亚\n",
            "巴基斯坦\n",
            "拉脱维亚\n",
            "以色列\n",
            "利比亚\n",
            "泰国\n",
            "摩洛哥\n",
            "科威特\n",
            "毛里求斯\n",
            "沙特阿拉伯\n",
            "亚美尼亚\n",
            "乌拉圭\n",
            "埃及\n",
            "巴拉圭\n",
            "老挝\n",
            "加拿大\n",
            "爱沙尼亚\n",
            "波黑\n",
            "委内瑞拉\n",
            "匈牙利\n",
            "马提尼克\n",
            "阿联酋\n",
            "摩尔多瓦\n",
            "瓜德罗普岛\n",
            "博茨瓦纳\n",
            "阿尔及利亚\n",
            "卡塔尔\n",
            "冰岛\n",
            "埃塞俄比亚\n",
            "阿曼\n",
            "缅甸\n",
            "特立尼达和多巴哥\n",
            "文莱\n",
            "法属圭亚那\n",
            "印度尼西亚\n",
            "莫桑比克\n",
            "黑山\n",
            "牙买加\n",
            "阿尔巴尼亚\n",
            "新西兰\n",
            "古巴\n",
            "斯里兰卡\n",
            "斯威士兰\n",
            "乌干达\n",
            "巴林\n",
            "肯尼亚\n",
            "苏里南\n",
            "刚果（金）\n",
            "巴巴多斯\n",
            "阿富汗\n",
            "白俄罗斯\n",
            "新喀里多尼亚\n",
            "尼日利亚\n",
            "伯利兹\n",
            "乌兹别克斯坦\n",
            "圭亚那\n",
            "布隆迪共和国\n",
            "法属波利尼西亚\n",
            "泽西岛\n",
            "喀麦隆\n",
            "加纳\n",
            "卢旺达\n",
            "马约特\n",
            "库拉索岛\n",
            "安哥拉\n",
            "柬埔寨\n",
            "坦桑尼亚\n",
            "不丹\n",
            "纳米比亚\n",
            "叙利亚\n",
            "关岛\n",
            "哥伦比亚\n",
            "科特迪瓦\n",
            "莱索托\n",
            "萨尔瓦多\n",
            "苏丹\n",
            "马尔代夫\n",
            "马拉维\n",
            "吉尔吉斯斯坦\n",
            "卢森堡\n",
            "巴哈马\n",
            "毛里塔尼亚\n",
            "阿鲁巴\n",
            "马达加斯加\n",
            "海地\n",
            "根西岛\n",
            "开曼群岛\n",
            "加蓬\n",
            "塞舌尔\n",
            "哥斯达黎加\n",
            "佛得角\n",
            "马恩岛\n",
            "索马里\n",
            "马里\n",
            "刚果（布）\n",
            "多哥\n",
            "尼加拉瓜\n",
            "新加坡\n",
            "斐济\n",
            "塞内加尔\n",
            "多米尼克\n",
            "北马里亚纳群岛联邦\n",
            "百慕大\n",
            "也门共和国\n",
            "格陵兰\n",
            "圣文森特和格林纳丁斯\n",
            "美属维尔京群岛\n",
            "摩纳哥\n",
            "圣马丁岛\n",
            "格林那达\n",
            "马耳他\n",
            "中非共和国\n",
            "几内亚\n",
            "尼泊尔\n",
            "布基纳法索\n",
            "安提瓜和巴布达\n",
            "南苏丹\n",
            "贝宁\n",
            "赞比亚共和国\n",
            "荷属圣马丁\n",
            "圣其茨和尼维斯\n",
            "科摩罗\n",
            "列支敦士登\n",
            "赤道几内亚\n",
            "东帝汶\n",
            "圣巴泰勒米岛\n",
            "津巴布韦\n",
            "英属维尔京群岛\n",
            "特克斯和凯科斯群岛\n",
            "吉布提\n",
            "法罗群岛\n",
            "塞拉利昂\n",
            "圣多美和普林西比\n",
            "厄立特里亚\n",
            "巴布亚新几内亚\n",
            "尼日尔\n",
            "几内亚比绍\n",
            "安圭拉\n",
            "乍得\n",
            "圣皮埃尔和密克隆群岛\n",
            "安道尔\n",
            "冈比亚\n",
            "北马其顿\n",
            "利比里亚\n",
            "圣马力诺\n",
            "直布罗陀\n",
            "塔吉克斯坦\n",
            "荷兰加勒比地区\n",
            "钻石公主号邮轮\n",
            "蒙特塞拉特\n",
            "圣卢西亚\n",
            "福克兰群岛\n",
            "梵蒂冈\n",
            "菲律宾\n",
            "南非\n"
          ]
        }
      ]
    }
  ]
}