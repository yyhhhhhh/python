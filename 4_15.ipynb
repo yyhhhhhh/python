{
  "nbformat": 4,
  "nbformat_minor": 0,
  "metadata": {
    "colab": {
      "name": "4.15.ipynb",
      "provenance": [],
      "authorship_tag": "ABX9TyP2zsbBpM0AGVU7AF+RLp7b",
      "include_colab_link": true
    },
    "kernelspec": {
      "name": "python3",
      "display_name": "Python 3"
    },
    "language_info": {
      "name": "python"
    }
  },
  "cells": [
    {
      "cell_type": "markdown",
      "metadata": {
        "id": "view-in-github",
        "colab_type": "text"
      },
      "source": [
        "<a href=\"https://colab.research.google.com/github/yyhhhhhh/python/blob/main/4_15.ipynb\" target=\"_parent\"><img src=\"https://colab.research.google.com/assets/colab-badge.svg\" alt=\"Open In Colab\"/></a>"
      ]
    },
    {
      "cell_type": "code",
      "execution_count": 5,
      "metadata": {
        "id": "0XrjtDvWzpuW",
        "colab": {
          "base_uri": "https://localhost:8080/"
        },
        "outputId": "70728bec-ecdc-41ca-f1a1-c4fdfd44b817"
      },
      "outputs": [
        {
          "output_type": "stream",
          "name": "stdout",
          "text": [
            "<bound method Car.get_des_name of <__main__.Car object at 0x7fe97464d510>>\n",
            "车的信息:2022的audi,型号为a4\n",
            "This car has 0 miles on it.\n",
            "This car has 23 miles on it.\n",
            "This car has 23 miles on it.\n",
            "20\n",
            "a4报废了\n"
          ]
        }
      ],
      "source": [
        "class Car:\n",
        "  def __init__(self,make,model,year):\n",
        "    self.make = make\n",
        "    self.model = model\n",
        "    self.year = year\n",
        "    self.odometer_reading = 0\n",
        "    self.__price = 20\n",
        "  def get_des_name(self):\n",
        "    return f\"{self.year} {self.make} {self.model}\"\n",
        "  def read_odometer(self):\n",
        "    print(f\"This car has {self.odometer_reading} miles on it.\")\n",
        "  def set_odometer(self,mileage):\n",
        "    if mileage >= self.odometer_reading:\n",
        "      self.odometer_reading = mileage\n",
        "    else:\n",
        "      print(\"You can't roll back an odometer!\")\n",
        "  def incr_odometer(self,miles):\n",
        "    self.odometer_reading += miles\n",
        "  def __del__(self):\n",
        "    print(f\"{self.model}报废了\")\n",
        "  def __str__(self):\n",
        "    return f\"车的信息:{self.year}的{self.make},型号为{self.model}\"\n",
        "\n",
        "myCar = Car('audi','a4',2022)\n",
        "print(myCar.get_des_name)\n",
        "print(myCar)\n",
        "myCar.read_odometer()\n",
        "\n",
        "myCar.odometer_reading = 23\n",
        "myCar.read_odometer()\n",
        "\n",
        "myCar.set_odometer(23)\n",
        "myCar.read_odometer()\n",
        "\n",
        "print(myCar._Car__price)"
      ]
    }
  ]
}