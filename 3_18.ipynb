{
  "nbformat": 4,
  "nbformat_minor": 0,
  "metadata": {
    "colab": {
      "name": "3.18",
      "provenance": [],
      "authorship_tag": "ABX9TyMsvWo0K1ufT8pCpeHB6BwU",
      "include_colab_link": true
    },
    "kernelspec": {
      "name": "python3",
      "display_name": "Python 3"
    },
    "language_info": {
      "name": "python"
    }
  },
  "cells": [
    {
      "cell_type": "markdown",
      "metadata": {
        "id": "view-in-github",
        "colab_type": "text"
      },
      "source": [
        "<a href=\"https://colab.research.google.com/github/yyhhhhhh/python/blob/main/3_18.ipynb\" target=\"_parent\"><img src=\"https://colab.research.google.com/assets/colab-badge.svg\" alt=\"Open In Colab\"/></a>"
      ]
    },
    {
      "cell_type": "code",
      "execution_count": 3,
      "metadata": {
        "colab": {
          "base_uri": "https://localhost:8080/"
        },
        "id": "R4VrOvbHk0SA",
        "outputId": "954978c5-bc74-498e-ee83-01d850a3e5ed"
      },
      "outputs": [
        {
          "output_type": "stream",
          "name": "stdout",
          "text": [
            "['audi', 'bmw', 'toyota']\n",
            "['toyota', 'bmw', 'audi']\n"
          ]
        }
      ],
      "source": [
        "cars = ['bmw','audi','toyota']\n",
        "cars.sort()\n",
        "print(cars)\n",
        "\n",
        "cars = ['bmw','audi','toyota']\n",
        "cars.sort(reverse = True)\n",
        "print(cars)"
      ]
    },
    {
      "cell_type": "code",
      "source": [
        "locations = ['西藏','新疆','四川','南极','冰岛']\n",
        "print(locations,type(locations))\n",
        "for i in range(len(locations)):\n",
        "  print(locations[i])"
      ],
      "metadata": {
        "colab": {
          "base_uri": "https://localhost:8080/"
        },
        "id": "D1MTc37OoJd9",
        "outputId": "e420ce96-17de-41b1-f8d2-d000b3a8457d"
      },
      "execution_count": 6,
      "outputs": [
        {
          "output_type": "stream",
          "name": "stdout",
          "text": [
            "['西藏', '新疆', '四川', '南极', '冰岛'] <class 'list'>\n",
            "西藏\n",
            "新疆\n",
            "四川\n",
            "南极\n",
            "冰岛\n"
          ]
        }
      ]
    },
    {
      "cell_type": "code",
      "source": [
        "numbers = list(range(1,10,2))\n",
        "print(numbers)"
      ],
      "metadata": {
        "colab": {
          "base_uri": "https://localhost:8080/"
        },
        "id": "Qi33qf-Rpntt",
        "outputId": "d4fc9f8b-42a8-4546-c83e-9eed3a9d28b0"
      },
      "execution_count": 7,
      "outputs": [
        {
          "output_type": "stream",
          "name": "stdout",
          "text": [
            "[1, 3, 5, 7, 9]\n"
          ]
        }
      ]
    },
    {
      "cell_type": "code",
      "source": [
        "squares = []\n",
        "for i in range(1,10):\n",
        "  squares.append(i ** 2)\n",
        "print(squares)"
      ],
      "metadata": {
        "colab": {
          "base_uri": "https://localhost:8080/"
        },
        "id": "aF9QCK-tp5by",
        "outputId": "78a5d03f-5ddb-41fb-d146-e3443f974b0d"
      },
      "execution_count": 10,
      "outputs": [
        {
          "output_type": "stream",
          "name": "stdout",
          "text": [
            "[1, 4, 9, 16, 25, 36, 49, 64, 81]\n"
          ]
        }
      ]
    },
    {
      "cell_type": "code",
      "source": [
        "squares = [value ** 2 for value in range(1,10)]\n",
        "print(squares)"
      ],
      "metadata": {
        "colab": {
          "base_uri": "https://localhost:8080/"
        },
        "id": "ZV95ZXdGqaFG",
        "outputId": "ce2fe681-ab75-4e39-e000-51ee8699f188"
      },
      "execution_count": 11,
      "outputs": [
        {
          "output_type": "stream",
          "name": "stdout",
          "text": [
            "[1, 4, 9, 16, 25, 36, 49, 64, 81]\n"
          ]
        }
      ]
    },
    {
      "cell_type": "code",
      "source": [
        "for i in range(1,21):\n",
        "  print(i)"
      ],
      "metadata": {
        "colab": {
          "base_uri": "https://localhost:8080/"
        },
        "id": "YmyId_tUreba",
        "outputId": "2c6a4a67-c239-4ada-9c75-4354d5bd7344"
      },
      "execution_count": 12,
      "outputs": [
        {
          "output_type": "stream",
          "name": "stdout",
          "text": [
            "1\n",
            "2\n",
            "3\n",
            "4\n",
            "5\n",
            "6\n",
            "7\n",
            "8\n",
            "9\n",
            "10\n",
            "11\n",
            "12\n",
            "13\n",
            "14\n",
            "15\n",
            "16\n",
            "17\n",
            "18\n",
            "19\n",
            "20\n"
          ]
        }
      ]
    },
    {
      "cell_type": "code",
      "source": [
        "arr = []\n",
        "for i in range(1,11):\n",
        "  arr.append(i ** 3)\n",
        "print(arr)"
      ],
      "metadata": {
        "colab": {
          "base_uri": "https://localhost:8080/"
        },
        "id": "WAG8uvnhsUgk",
        "outputId": "7c972d94-f762-4717-ff74-0c65a320b50d"
      },
      "execution_count": 13,
      "outputs": [
        {
          "output_type": "stream",
          "name": "stdout",
          "text": [
            "[1, 8, 27, 64, 125, 216, 343, 512, 729, 1000]\n"
          ]
        }
      ]
    },
    {
      "cell_type": "code",
      "source": [
        "colors = ['red','green','blue','yellow','white','black']\n",
        "print(colors[0:])\n",
        "print(colors[1:])\n",
        "print(colors[:-1])\n",
        "print(colors[1:4])\n",
        "print(colors[-5:-2])\n",
        "print(colors[::-1])\n",
        "print(colors[3::-2])\n",
        "print(colors[1:-4:-1])"
      ],
      "metadata": {
        "colab": {
          "base_uri": "https://localhost:8080/"
        },
        "id": "egJGtbKsuLfq",
        "outputId": "74de086b-7a20-469b-e8e5-fd180101cfa0"
      },
      "execution_count": 22,
      "outputs": [
        {
          "output_type": "stream",
          "name": "stdout",
          "text": [
            "['red', 'green', 'blue', 'yellow', 'white', 'black']\n",
            "['green', 'blue', 'yellow', 'white', 'black']\n",
            "['red', 'green', 'blue', 'yellow', 'white']\n",
            "['green', 'blue', 'yellow']\n",
            "['green', 'blue', 'yellow']\n",
            "['black', 'white', 'yellow', 'blue', 'green', 'red']\n",
            "['yellow', 'green']\n",
            "[]\n"
          ]
        }
      ]
    },
    {
      "cell_type": "code",
      "source": [
        "a = [list(range(10*i,10*i+6)) for i in range((6))]\n",
        "print(a)\n",
        "print(a[0][3:5])\n",
        "print(a[4:][4:])\n",
        "print(a[:][2])\n",
        "print(a[2::2][2::2])"
      ],
      "metadata": {
        "colab": {
          "base_uri": "https://localhost:8080/"
        },
        "id": "SBxmvlUY061P",
        "outputId": "d70e4b68-3d9b-43ec-bcf8-2a1d998f4b81"
      },
      "execution_count": 24,
      "outputs": [
        {
          "output_type": "stream",
          "name": "stdout",
          "text": [
            "[[0, 1, 2, 3, 4, 5], [10, 11, 12, 13, 14, 15], [20, 21, 22, 23, 24, 25], [30, 31, 32, 33, 34, 35], [40, 41, 42, 43, 44, 45], [50, 51, 52, 53, 54, 55]]\n",
            "[3, 4]\n",
            "[]\n",
            "[20, 21, 22, 23, 24, 25]\n",
            "[]\n"
          ]
        }
      ]
    },
    {
      "cell_type": "code",
      "source": [
        "import numpy as np\n",
        "a = [list(range(10*i,10*i+6)) for i in range((6))]\n",
        "b = np.array(a)\n",
        "print(b[0,3:5])\n",
        "print(b[4:,4:])\n",
        "print(b[:,2])\n",
        "print(b[2::2,2::2])"
      ],
      "metadata": {
        "colab": {
          "base_uri": "https://localhost:8080/"
        },
        "id": "7uCh5WFH1lf8",
        "outputId": "2c395b3c-94bc-4b97-a25d-8661b48a1fe8"
      },
      "execution_count": 26,
      "outputs": [
        {
          "output_type": "stream",
          "name": "stdout",
          "text": [
            "[3 4]\n",
            "[[44 45]\n",
            " [54 55]]\n",
            "[ 2 12 22 32 42 52]\n",
            "[[22 24]\n",
            " [42 44]]\n"
          ]
        }
      ]
    },
    {
      "cell_type": "code",
      "source": [
        "food = ['apple','noodle','meat','rice']\n",
        "fine_food = food[:]\n",
        "print(food[0:2])\n",
        "print(food[1:3])\n",
        "print(food[-2:])\n",
        "food.append('pear')\n",
        "print(food)\n",
        "fine_food.append('orange')\n",
        "print(fine_food)"
      ],
      "metadata": {
        "colab": {
          "base_uri": "https://localhost:8080/"
        },
        "id": "6vPYqBp772M_",
        "outputId": "411fa133-6d54-4995-9b93-9136d191880b"
      },
      "execution_count": 32,
      "outputs": [
        {
          "output_type": "stream",
          "name": "stdout",
          "text": [
            "['apple', 'noodle']\n",
            "['noodle', 'meat']\n",
            "['meat', 'rice']\n",
            "['apple', 'noodle', 'meat', 'rice', 'pear']\n",
            "['apple', 'noodle', 'meat', 'rice', 'orange']\n"
          ]
        }
      ]
    },
    {
      "cell_type": "code",
      "source": [
        "print('以下是元组的基本操作')\n",
        "tup1 = ()\n",
        "tup1 = ('Google','Runoob',1997,2000)\n",
        "tup2 = tuple(range(10))\n",
        "tup2 = (1,2,3,4,5,6,7)\n",
        "print(tup1)\n",
        "print(tup2)\n",
        "print(tup1[0])\n",
        "print(tup2[1:5])\n",
        "print(tup2 * 2)\n",
        "print(1 in tup2)\n",
        "print(len(tup2))\n",
        "print(tup1 + (26.8,0))\n",
        "print(tup1[::2])"
      ],
      "metadata": {
        "colab": {
          "base_uri": "https://localhost:8080/"
        },
        "id": "J8H2vdyF_16H",
        "outputId": "dc096df5-1955-419b-e16c-dae651ac28f1"
      },
      "execution_count": 36,
      "outputs": [
        {
          "output_type": "stream",
          "name": "stdout",
          "text": [
            "以下是元组的基本操作\n",
            "('Google', 'Runoob', 1997, 2000)\n",
            "(1, 2, 3, 4, 5, 6, 7)\n",
            "Google\n",
            "(2, 3, 4, 5)\n",
            "(1, 2, 3, 4, 5, 6, 7, 1, 2, 3, 4, 5, 6, 7)\n",
            "True\n",
            "7\n",
            "('Google', 'Runoob', 1997, 2000, 26.8, 0)\n",
            "('Google', 1997)\n"
          ]
        }
      ]
    },
    {
      "cell_type": "code",
      "source": [
        "student = {}\n",
        "student = dict()\n",
        "student = {\n",
        "    'no' : '210501110123',\n",
        "    'name' : '杨宇航',\n",
        "    'age' : 21,\n",
        "    'course' : ['数学','英语','java']\n",
        "}\n",
        "print(student)\n",
        "print(student['no'])\n",
        "print(student.get('class'))\n",
        "print(student.keys())\n",
        "print(student.values())\n",
        "print(student.items())\n",
        "print('age' in student)\n",
        "print('sex' in student)"
      ],
      "metadata": {
        "colab": {
          "base_uri": "https://localhost:8080/"
        },
        "id": "kzpvdIG1A8p-",
        "outputId": "7baa06e3-da40-4907-a391-f4e890f904b0"
      },
      "execution_count": 42,
      "outputs": [
        {
          "output_type": "stream",
          "name": "stdout",
          "text": [
            "{'no': '210501110123', 'name': '杨宇航', 'age': 21, 'course': ['数学', '英语', 'java']}\n",
            "210501110123\n",
            "None\n",
            "dict_keys(['no', 'name', 'age', 'course'])\n",
            "dict_values(['210501110123', '杨宇航', 21, ['数学', '英语', 'java']])\n",
            "dict_items([('no', '210501110123'), ('name', '杨宇航'), ('age', 21), ('course', ['数学', '英语', 'java'])])\n",
            "True\n",
            "False\n"
          ]
        }
      ]
    },
    {
      "cell_type": "code",
      "source": [
        "student = {\n",
        "    'no' : '210501110123',\n",
        "    'name' : '杨宇航',\n",
        "    'age' : 21,\n",
        "    'course' : ['数学','英语','java']\n",
        "}\n",
        "student['age'] = 22\n",
        "student['job'] = 'Dev'\n",
        "del student['job']\n",
        "for k,v in student.items():\n",
        "  print(k,'---',v)\n",
        "print()\n",
        "for k in student.keys():\n",
        "  print(k)\n",
        "print()\n",
        "for k in sorted(student.keys()):\n",
        "  print(k)"
      ],
      "metadata": {
        "colab": {
          "base_uri": "https://localhost:8080/"
        },
        "id": "eJ9RFrfFGBnH",
        "outputId": "61818ba1-2f73-4179-ea2b-a292f9c9ad8c"
      },
      "execution_count": 50,
      "outputs": [
        {
          "output_type": "stream",
          "name": "stdout",
          "text": [
            "no --- 210501110123\n",
            "name --- 杨宇航\n",
            "age --- 22\n",
            "course --- ['数学', '英语', 'java']\n",
            "\n",
            "no\n",
            "name\n",
            "age\n",
            "course\n",
            "\n",
            "age\n",
            "course\n",
            "name\n",
            "no\n"
          ]
        }
      ]
    },
    {
      "cell_type": "code",
      "source": [
        "a,b = set('abc'),set('dabc')\n",
        "a = {x for x in 'abracadabra' if x not in 'abc'}\n",
        "print(a,b)"
      ],
      "metadata": {
        "colab": {
          "base_uri": "https://localhost:8080/"
        },
        "id": "GHNc4ZN4KEso",
        "outputId": "aaf937e9-2d7e-462a-f0dc-292c4326a311"
      },
      "execution_count": 52,
      "outputs": [
        {
          "output_type": "stream",
          "name": "stdout",
          "text": [
            "{'d', 'r'} {'d', 'a', 'b', 'c'}\n"
          ]
        }
      ]
    },
    {
      "cell_type": "code",
      "source": [
        "a = set([1,2,3,4,5])\n",
        "b = set([2,4,6,8,10])\n",
        "print(a)\n",
        "print(b)\n",
        "a.add('e')\n",
        "print(a)\n",
        "a.remove(1)\n",
        "print(a)\n",
        "c = a.pop()\n",
        "print(a)\n",
        "a.clear()\n",
        "print(a)"
      ],
      "metadata": {
        "colab": {
          "base_uri": "https://localhost:8080/"
        },
        "id": "Kc7J1RK0KtLB",
        "outputId": "469a839e-0cc7-444f-e248-b223e1017a20"
      },
      "execution_count": 59,
      "outputs": [
        {
          "output_type": "stream",
          "name": "stdout",
          "text": [
            "{1, 2, 3, 4, 5}\n",
            "{2, 4, 6, 8, 10}\n",
            "{1, 2, 3, 4, 5, 'e'}\n",
            "{2, 3, 4, 5, 'e'}\n",
            "{3, 4, 5, 'e'}\n",
            "set()\n"
          ]
        }
      ]
    },
    {
      "cell_type": "code",
      "source": [
        "a = set([1,2,3,4,5])\n",
        "b = set([2,4,6,8,10])\n",
        "print('并集')\n",
        "print(a | b)\n",
        "print(a.union(b))\n",
        "print('交集')\n",
        "print(a & b)\n",
        "print(a.intersection(b))\n",
        "print('差集')\n",
        "print(b-a)\n",
        "print(a.difference(b))\n",
        "print('异或')\n",
        "print(a^b)\n",
        "print(a.symmetric_difference(b))"
      ],
      "metadata": {
        "colab": {
          "base_uri": "https://localhost:8080/"
        },
        "id": "yDDdu1e_LzOR",
        "outputId": "c0661be2-6eac-48fa-912c-11302e36c411"
      },
      "execution_count": 64,
      "outputs": [
        {
          "output_type": "stream",
          "name": "stdout",
          "text": [
            "并集\n",
            "{1, 2, 3, 4, 5, 6, 8, 10}\n",
            "{1, 2, 3, 4, 5, 6, 8, 10}\n",
            "交集\n",
            "{2, 4}\n",
            "{2, 4}\n",
            "差集\n",
            "{8, 10, 6}\n",
            "{1, 3, 5}\n",
            "异或\n",
            "{1, 3, 5, 6, 8, 10}\n",
            "{1, 3, 5, 6, 8, 10}\n"
          ]
        }
      ]
    }
  ]
}