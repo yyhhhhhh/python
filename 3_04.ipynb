{
  "nbformat": 4,
  "nbformat_minor": 0,
  "metadata": {
    "colab": {
      "name": "3.04.ipynb",
      "provenance": [],
      "authorship_tag": "ABX9TyOm6J46aHqc0ZJomJp7dxNv",
      "include_colab_link": true
    },
    "kernelspec": {
      "name": "python3",
      "display_name": "Python 3"
    },
    "language_info": {
      "name": "python"
    }
  },
  "cells": [
    {
      "cell_type": "markdown",
      "metadata": {
        "id": "view-in-github",
        "colab_type": "text"
      },
      "source": [
        "<a href=\"https://colab.research.google.com/github/yyhhhhhh/python/blob/main/3_04.ipynb\" target=\"_parent\"><img src=\"https://colab.research.google.com/assets/colab-badge.svg\" alt=\"Open In Colab\"/></a>"
      ]
    },
    {
      "cell_type": "code",
      "source": [
        "!python3 --version"
      ],
      "metadata": {
        "colab": {
          "base_uri": "https://localhost:8080/"
        },
        "id": "Nt2fC6JGmNYv",
        "outputId": "34e83677-e642-427b-cf9d-535b5e37a7d8"
      },
      "execution_count": 8,
      "outputs": [
        {
          "output_type": "stream",
          "name": "stdout",
          "text": [
            "Python 3.7.12\n"
          ]
        }
      ]
    },
    {
      "cell_type": "code",
      "source": [
        "print('hello world')"
      ],
      "metadata": {
        "colab": {
          "base_uri": "https://localhost:8080/"
        },
        "id": "Q6uyQi16lL9o",
        "outputId": "4cce9dff-af40-4ff0-d044-9853d59d0eae"
      },
      "execution_count": 6,
      "outputs": [
        {
          "output_type": "stream",
          "name": "stdout",
          "text": [
            "hello world\n"
          ]
        }
      ]
    },
    {
      "cell_type": "code",
      "source": [
        "print(5//8)\n",
        "print(5%8)\n",
        "print(5**8)\n",
        "print(divmod(9,4))\n",
        "print((1+2j)+(2+3j))"
      ],
      "metadata": {
        "colab": {
          "base_uri": "https://localhost:8080/"
        },
        "id": "-yd96QmCp0tT",
        "outputId": "f800b52d-e294-4e6d-f828-516983c05acd"
      },
      "execution_count": 20,
      "outputs": [
        {
          "output_type": "stream",
          "name": "stdout",
          "text": [
            "0\n",
            "5\n",
            "390625\n",
            "(2, 1)\n",
            "(3+5j)\n"
          ]
        }
      ]
    },
    {
      "cell_type": "code",
      "source": [
        "import math\n",
        "a = math.sqrt(2)\n",
        "print(a)\n",
        "print(f'{a} is {a:.2f}')"
      ],
      "metadata": {
        "colab": {
          "base_uri": "https://localhost:8080/"
        },
        "id": "_Ie3GwxStTOt",
        "outputId": "0b43ab0a-cfc3-49bb-ede0-ca3ac7a6ed94"
      },
      "execution_count": 22,
      "outputs": [
        {
          "output_type": "stream",
          "name": "stdout",
          "text": [
            "1.4142135623730951\n",
            "1.4142135623730951 is 1.41\n"
          ]
        }
      ]
    },
    {
      "cell_type": "code",
      "source": [
        "age = 21\n",
        "message = f'happy {age} rd Birthday'\n",
        "print (message)"
      ],
      "metadata": {
        "colab": {
          "base_uri": "https://localhost:8080/"
        },
        "id": "asebbBt6tpyt",
        "outputId": "8d027377-72b5-4e7e-fe8b-c64ce897e6e1"
      },
      "execution_count": 39,
      "outputs": [
        {
          "output_type": "stream",
          "name": "stdout",
          "text": [
            "happy 21 rd Birthday\n"
          ]
        }
      ]
    },
    {
      "cell_type": "code",
      "source": [
        "print('姓名：','yyh')\n",
        "print('姓名：','yyh', end='\\n')\n",
        "print('hello',2022, sep=',')"
      ],
      "metadata": {
        "colab": {
          "base_uri": "https://localhost:8080/"
        },
        "id": "UaEIA6bixQEZ",
        "outputId": "76fd0dec-9b5f-4efc-feff-f610f32d8f4d"
      },
      "execution_count": 34,
      "outputs": [
        {
          "output_type": "stream",
          "name": "stdout",
          "text": [
            "姓名： yyh\n",
            "姓名： yyh\n",
            "hello,2022\n"
          ]
        }
      ]
    },
    {
      "cell_type": "code",
      "source": [
        "a ='niit'\n",
        "b =7.8378\n",
        "print('my name is {0} and the number is {1:.2f}'.format(a, b))\n",
        "print('{1}, my name is {0}! {1}'.format('niit','hello'))\n",
        "print(\"{myname}'s age is {myage}\".format(myname=a, myage=20))"
      ],
      "metadata": {
        "colab": {
          "base_uri": "https://localhost:8080/"
        },
        "id": "7HjbyeA4yo_D",
        "outputId": "11cf0d82-5d9f-47b8-aa4d-848a119413dc"
      },
      "execution_count": 36,
      "outputs": [
        {
          "output_type": "stream",
          "name": "stdout",
          "text": [
            "my name is niit and the number is 7.84\n",
            "hello, my name is niit! hello\n",
            "niit's age is 20\n"
          ]
        }
      ]
    },
    {
      "cell_type": "code",
      "source": [
        "person =['niit',20]\n",
        "print(\"{0[0]}'s age is {0[1]}\".format(person))\n",
        "print(\"{person[0]}'s age is {person[1]}\".format(person=person))"
      ],
      "metadata": {
        "colab": {
          "base_uri": "https://localhost:8080/"
        },
        "id": "JFOOVc-dzYG-",
        "outputId": "95459d97-8b0a-47a3-cdfc-90f1cfbe826b"
      },
      "execution_count": 37,
      "outputs": [
        {
          "output_type": "stream",
          "name": "stdout",
          "text": [
            "niit's age is 20\n",
            "niit's age is 20\n"
          ]
        }
      ]
    },
    {
      "cell_type": "code",
      "source": [
        "score =input('成绩:')\n",
        "print(type(score))\n",
        "score =eval(score)\n",
        "print(type(score))\n",
        "print(score)"
      ],
      "metadata": {
        "colab": {
          "base_uri": "https://localhost:8080/"
        },
        "id": "-cLEFuc42qhU",
        "outputId": "82fa9717-90f0-4b39-d10a-f6f443abdab6"
      },
      "execution_count": 40,
      "outputs": [
        {
          "output_type": "stream",
          "name": "stdout",
          "text": [
            "成绩:90\n",
            "<class 'str'>\n",
            "<class 'int'>\n",
            "90\n"
          ]
        }
      ]
    }
  ]
}