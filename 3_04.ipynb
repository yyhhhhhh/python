{
  "nbformat": 4,
  "nbformat_minor": 0,
  "metadata": {
    "colab": {
      "name": "3.04.ipynb",
      "provenance": [],
      "authorship_tag": "ABX9TyMIG1Tu7uhWOeZPHd5APtFW",
      "include_colab_link": true
    },
    "kernelspec": {
      "name": "python3",
      "display_name": "Python 3"
    },
    "language_info": {
      "name": "python"
    }
  },
  "cells": [
    {
      "cell_type": "markdown",
      "metadata": {
        "id": "view-in-github",
        "colab_type": "text"
      },
      "source": [
        "<a href=\"https://colab.research.google.com/github/yyhhhhhh/python/blob/main/3_04.ipynb\" target=\"_parent\"><img src=\"https://colab.research.google.com/assets/colab-badge.svg\" alt=\"Open In Colab\"/></a>"
      ]
    },
    {
      "cell_type": "code",
      "source": [
        "!python3 --version"
      ],
      "metadata": {
        "colab": {
          "base_uri": "https://localhost:8080/"
        },
        "id": "Nt2fC6JGmNYv",
        "outputId": "34e83677-e642-427b-cf9d-535b5e37a7d8"
      },
      "execution_count": 8,
      "outputs": [
        {
          "output_type": "stream",
          "name": "stdout",
          "text": [
            "Python 3.7.12\n"
          ]
        }
      ]
    },
    {
      "cell_type": "code",
      "source": [
        "print('hello world')"
      ],
      "metadata": {
        "colab": {
          "base_uri": "https://localhost:8080/"
        },
        "id": "Q6uyQi16lL9o",
        "outputId": "4cce9dff-af40-4ff0-d044-9853d59d0eae"
      },
      "execution_count": 6,
      "outputs": [
        {
          "output_type": "stream",
          "name": "stdout",
          "text": [
            "hello world\n"
          ]
        }
      ]
    },
    {
      "cell_type": "code",
      "source": [
        "print(5//8)\n",
        "print(5%8)\n",
        "print(5**8)\n",
        "print(divmod(9,4))\n",
        "print((1+2j)+(2+3j))"
      ],
      "metadata": {
        "colab": {
          "base_uri": "https://localhost:8080/"
        },
        "id": "-yd96QmCp0tT",
        "outputId": "f800b52d-e294-4e6d-f828-516983c05acd"
      },
      "execution_count": 20,
      "outputs": [
        {
          "output_type": "stream",
          "name": "stdout",
          "text": [
            "0\n",
            "5\n",
            "390625\n",
            "(2, 1)\n",
            "(3+5j)\n"
          ]
        }
      ]
    },
    {
      "cell_type": "code",
      "source": [
        "import math\n",
        "a = math.sqrt(2)\n",
        "print(a)\n",
        "print(f'{a} is {a:.2f}')"
      ],
      "metadata": {
        "colab": {
          "base_uri": "https://localhost:8080/"
        },
        "id": "_Ie3GwxStTOt",
        "outputId": "0b43ab0a-cfc3-49bb-ede0-ca3ac7a6ed94"
      },
      "execution_count": 22,
      "outputs": [
        {
          "output_type": "stream",
          "name": "stdout",
          "text": [
            "1.4142135623730951\n",
            "1.4142135623730951 is 1.41\n"
          ]
        }
      ]
    },
    {
      "cell_type": "code",
      "source": [
        "age = 21\n",
        "message = f'happy {age} rd Birthday'\n",
        "print (message)"
      ],
      "metadata": {
        "colab": {
          "base_uri": "https://localhost:8080/"
        },
        "id": "asebbBt6tpyt",
        "outputId": "8d027377-72b5-4e7e-fe8b-c64ce897e6e1"
      },
      "execution_count": 39,
      "outputs": [
        {
          "output_type": "stream",
          "name": "stdout",
          "text": [
            "happy 21 rd Birthday\n"
          ]
        }
      ]
    },
    {
      "cell_type": "code",
      "source": [
        "print('姓名：','yyh')\n",
        "print('姓名：','yyh', end='\\n')\n",
        "print('hello',2022, sep=',')"
      ],
      "metadata": {
        "colab": {
          "base_uri": "https://localhost:8080/"
        },
        "id": "UaEIA6bixQEZ",
        "outputId": "76fd0dec-9b5f-4efc-feff-f610f32d8f4d"
      },
      "execution_count": 34,
      "outputs": [
        {
          "output_type": "stream",
          "name": "stdout",
          "text": [
            "姓名： yyh\n",
            "姓名： yyh\n",
            "hello,2022\n"
          ]
        }
      ]
    },
    {
      "cell_type": "code",
      "source": [
        "a ='niit'\n",
        "b =7.8378\n",
        "print('my name is {0} and the number is {1:.2f}'.format(a, b))\n",
        "print('{1}, my name is {0}! {1}'.format('niit','hello'))\n",
        "print(\"{myname}'s age is {myage}\".format(myname=a, myage=20))"
      ],
      "metadata": {
        "colab": {
          "base_uri": "https://localhost:8080/"
        },
        "id": "7HjbyeA4yo_D",
        "outputId": "11cf0d82-5d9f-47b8-aa4d-848a119413dc"
      },
      "execution_count": 36,
      "outputs": [
        {
          "output_type": "stream",
          "name": "stdout",
          "text": [
            "my name is niit and the number is 7.84\n",
            "hello, my name is niit! hello\n",
            "niit's age is 20\n"
          ]
        }
      ]
    },
    {
      "cell_type": "code",
      "source": [
        "person =['niit',20]\n",
        "print(\"{0[0]}'s age is {0[1]}\".format(person))\n",
        "print(\"{person[0]}'s age is {person[1]}\".format(person=person))"
      ],
      "metadata": {
        "colab": {
          "base_uri": "https://localhost:8080/"
        },
        "id": "JFOOVc-dzYG-",
        "outputId": "95459d97-8b0a-47a3-cdfc-90f1cfbe826b"
      },
      "execution_count": 37,
      "outputs": [
        {
          "output_type": "stream",
          "name": "stdout",
          "text": [
            "niit's age is 20\n",
            "niit's age is 20\n"
          ]
        }
      ]
    },
    {
      "cell_type": "code",
      "source": [
        "score =input('成绩:')\n",
        "print(type(score))\n",
        "score =eval(score)\n",
        "print(type(score))\n",
        "print(score)"
      ],
      "metadata": {
        "colab": {
          "base_uri": "https://localhost:8080/"
        },
        "id": "-cLEFuc42qhU",
        "outputId": "82fa9717-90f0-4b39-d10a-f6f443abdab6"
      },
      "execution_count": 40,
      "outputs": [
        {
          "output_type": "stream",
          "name": "stdout",
          "text": [
            "成绩:90\n",
            "<class 'str'>\n",
            "<class 'int'>\n",
            "90\n"
          ]
        }
      ]
    },
    {
      "cell_type": "code",
      "source": [
        "print('abc '*4)\n",
        "print('''abc def \n",
        "qwe''')"
      ],
      "metadata": {
        "colab": {
          "base_uri": "https://localhost:8080/"
        },
        "id": "6fLNMCuZ4TkO",
        "outputId": "dfe69a46-5320-47ba-9892-099d3ec5a8a0"
      },
      "execution_count": 47,
      "outputs": [
        {
          "output_type": "stream",
          "name": "stdout",
          "text": [
            "abc abc abc abc \n",
            "abc def \n",
            "qwe\n"
          ]
        }
      ]
    },
    {
      "cell_type": "code",
      "source": [
        "'abcd'[0:2]"
      ],
      "metadata": {
        "colab": {
          "base_uri": "https://localhost:8080/",
          "height": 35
        },
        "id": "UYFUEjZG5llq",
        "outputId": "2de82185-d09f-438a-dc7e-58c64a2ad2fc"
      },
      "execution_count": 54,
      "outputs": [
        {
          "output_type": "execute_result",
          "data": {
            "application/vnd.google.colaboratory.intrinsic+json": {
              "type": "string"
            },
            "text/plain": [
              "'ab'"
            ]
          },
          "metadata": {},
          "execution_count": 54
        }
      ]
    },
    {
      "cell_type": "code",
      "source": [
        "'abcd'[0::2]"
      ],
      "metadata": {
        "colab": {
          "base_uri": "https://localhost:8080/",
          "height": 35
        },
        "id": "PH_8XfaT52dR",
        "outputId": "24f58905-bfe8-423c-89f0-74c00e08d88b"
      },
      "execution_count": 55,
      "outputs": [
        {
          "output_type": "execute_result",
          "data": {
            "application/vnd.google.colaboratory.intrinsic+json": {
              "type": "string"
            },
            "text/plain": [
              "'ac'"
            ]
          },
          "metadata": {},
          "execution_count": 55
        }
      ]
    },
    {
      "cell_type": "code",
      "source": [
        "'abcd'[3:1:-1]"
      ],
      "metadata": {
        "colab": {
          "base_uri": "https://localhost:8080/",
          "height": 35
        },
        "id": "mNUrYInc58y_",
        "outputId": "456d147c-8f47-4bd6-aa87-861b54c3939a"
      },
      "execution_count": 59,
      "outputs": [
        {
          "output_type": "execute_result",
          "data": {
            "application/vnd.google.colaboratory.intrinsic+json": {
              "type": "string"
            },
            "text/plain": [
              "'dc'"
            ]
          },
          "metadata": {},
          "execution_count": 59
        }
      ]
    },
    {
      "cell_type": "code",
      "source": [
        "n = 33\n",
        "m = 7\n",
        "print(n + m)\n",
        "print(n - m)\n",
        "print(n * m)\n",
        "print(n / m)\n",
        "print(n // m)\n",
        "print(n % m)\n",
        "print(n ** m)\n",
        "print(hex(n))\n",
        "print(oct(n))\n",
        "print(bin(n))"
      ],
      "metadata": {
        "colab": {
          "base_uri": "https://localhost:8080/"
        },
        "id": "aUNaUN7w7n7Y",
        "outputId": "7798132b-27cb-4e7d-dff6-2c40f80fbd99"
      },
      "execution_count": 64,
      "outputs": [
        {
          "output_type": "stream",
          "name": "stdout",
          "text": [
            "40\n",
            "26\n",
            "231\n",
            "4.714285714285714\n",
            "4\n",
            "5\n",
            "42618442977\n",
            "0x21\n",
            "0o41\n",
            "0b100001\n"
          ]
        }
      ]
    },
    {
      "cell_type": "code",
      "source": [
        "a,b,c,d,e,f = 1,0,1.2,'abc',None,False\n",
        "(\n",
        "    str(a),bool(b),int(c),float(a),e is None,f == False,f != False\n",
        ")"
      ],
      "metadata": {
        "colab": {
          "base_uri": "https://localhost:8080/"
        },
        "id": "9JCkBn-h83vS",
        "outputId": "46cf7983-326a-4e27-d190-60e3bd0ff9a4"
      },
      "execution_count": 66,
      "outputs": [
        {
          "output_type": "execute_result",
          "data": {
            "text/plain": [
              "('1', False, 1, 1.0, True, True, False)"
            ]
          },
          "metadata": {},
          "execution_count": 66
        }
      ]
    },
    {
      "cell_type": "code",
      "source": [
        "n,m = 'abc','def'\n",
        "(\n",
        "    n+m,n*2,len(n),n[0],'a'in n,ord('A'),chr(97),'杨宇航'[0]\n",
        ")"
      ],
      "metadata": {
        "colab": {
          "base_uri": "https://localhost:8080/"
        },
        "id": "nN-nFS-y9olO",
        "outputId": "02ba7747-5674-422e-fd93-790cd2368d2e"
      },
      "execution_count": 69,
      "outputs": [
        {
          "output_type": "execute_result",
          "data": {
            "text/plain": [
              "('abcdef', 'abcabc', 3, 'a', True, 65, 'a', '杨')"
            ]
          },
          "metadata": {},
          "execution_count": 69
        }
      ]
    },
    {
      "cell_type": "code",
      "source": [
        "s,t = 'abcdefg12345','Mike and Tom'\n",
        "(\n",
        "    s[3:9],\n",
        "    s[5:],\n",
        "    s[len(s):6:-1],\n",
        "    s[:9:2]\n",
        ")"
      ],
      "metadata": {
        "colab": {
          "base_uri": "https://localhost:8080/"
        },
        "id": "00Yo8vYf-idl",
        "outputId": "a81472d6-09c9-42ea-df41-fdd8ebc2e0c2"
      },
      "execution_count": 85,
      "outputs": [
        {
          "output_type": "execute_result",
          "data": {
            "text/plain": [
              "('defg12', 'fg12345', '54321', 'aceg2')"
            ]
          },
          "metadata": {},
          "execution_count": 85
        }
      ]
    },
    {
      "cell_type": "code",
      "source": [
        "import this"
      ],
      "metadata": {
        "colab": {
          "base_uri": "https://localhost:8080/"
        },
        "id": "KNEJ1JQqBJ1u",
        "outputId": "2ca6a05f-173d-40af-f045-37ea63fc0cb0"
      },
      "execution_count": 84,
      "outputs": [
        {
          "output_type": "stream",
          "name": "stdout",
          "text": [
            "The Zen of Python, by Tim Peters\n",
            "\n",
            "Beautiful is better than ugly.\n",
            "Explicit is better than implicit.\n",
            "Simple is better than complex.\n",
            "Complex is better than complicated.\n",
            "Flat is better than nested.\n",
            "Sparse is better than dense.\n",
            "Readability counts.\n",
            "Special cases aren't special enough to break the rules.\n",
            "Although practicality beats purity.\n",
            "Errors should never pass silently.\n",
            "Unless explicitly silenced.\n",
            "In the face of ambiguity, refuse the temptation to guess.\n",
            "There should be one-- and preferably only one --obvious way to do it.\n",
            "Although that way may not be obvious at first unless you're Dutch.\n",
            "Now is better than never.\n",
            "Although never is often better than *right* now.\n",
            "If the implementation is hard to explain, it's a bad idea.\n",
            "If the implementation is easy to explain, it may be a good idea.\n",
            "Namespaces are one honking great idea -- let's do more of those!\n"
          ]
        }
      ]
    }
  ]
}